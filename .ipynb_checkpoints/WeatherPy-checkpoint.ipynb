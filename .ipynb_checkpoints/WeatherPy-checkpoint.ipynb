{
 "cells": [
  {
   "cell_type": "code",
   "execution_count": 19,
   "id": "4920d19e",
   "metadata": {},
   "outputs": [],
   "source": [
    "# Import the dependencies.\n",
    "import pandas as pd\n",
    "import matplotlib.pyplot as plt\n",
    "import numpy as np"
   ]
  },
  {
   "cell_type": "code",
   "execution_count": 36,
   "id": "c3046f1c",
   "metadata": {},
   "outputs": [
    {
     "data": {
      "text/plain": [
       "<zip at 0x29a8568ab40>"
      ]
     },
     "execution_count": 36,
     "metadata": {},
     "output_type": "execute_result"
    }
   ],
   "source": [
    "# Create a set of random latitude and longitude combinations.\n",
    "lats = np.random.uniform(low=-90.000, high=90.000, size=50)\n",
    "lngs = np.random.uniform(low=-180.000, high=180.000, size=50)\n",
    "lat_lngs = zip(lats, lngs)\n",
    "lat_lngs"
   ]
  },
  {
   "cell_type": "code",
   "execution_count": 37,
   "id": "48b3ad20",
   "metadata": {},
   "outputs": [
    {
     "data": {
      "text/plain": [
       "<zip at 0x29a85c162c0>"
      ]
     },
     "execution_count": 37,
     "metadata": {},
     "output_type": "execute_result"
    }
   ],
   "source": [
    "# Add the latitudes and longitudes to a list.\n",
    "coordinates = list(lat_lngs)\n",
    "zip(*coordinates)"
   ]
  },
  {
   "cell_type": "code",
   "execution_count": 38,
   "id": "bb9fdb78",
   "metadata": {},
   "outputs": [
    {
     "data": {
      "text/plain": [
       "[(82.034484854515, -155.46871154121988),\n",
       " (70.36211042392202, 140.0024189616933),\n",
       " (8.360568067085183, -72.86395297541475),\n",
       " (-89.9773287479514, 97.11226772962931),\n",
       " (-88.84364640243905, 27.398059815530246),\n",
       " (86.83144919806395, 48.18111257290059),\n",
       " (40.39945695050693, 23.087004145118186),\n",
       " (-49.56082365232868, 58.887720466198545),\n",
       " (-32.41508684970218, 29.799718207614546),\n",
       " (-16.303997408272068, -113.89847247329301),\n",
       " (30.22228081014859, -68.09442888914928),\n",
       " (70.79478563871498, -104.56576726194994),\n",
       " (-7.14221575525039, -100.35020766763051),\n",
       " (53.75698737619899, 89.15376534184753),\n",
       " (55.88179665899949, -45.7370369287477),\n",
       " (78.45919547653267, -21.82781485231186),\n",
       " (-74.23634353331867, -76.0798653186983),\n",
       " (-77.589160306303, -167.29771302188254),\n",
       " (-81.58764581160196, -107.14976927503236),\n",
       " (39.41379437620077, 59.61967415757121),\n",
       " (61.08539529962326, -100.12226756439077),\n",
       " (79.40611648055256, 126.07653419898355),\n",
       " (75.07010741181873, -66.02059910579763),\n",
       " (46.08250483535886, 151.0381972776081),\n",
       " (52.20598493445871, -110.55901829217828),\n",
       " (46.13693401928961, -72.30790633235041),\n",
       " (-36.24896289059527, -29.06458171212418),\n",
       " (72.53770479549215, -139.69344141998744),\n",
       " (-11.743351318438869, 62.00583973413245),\n",
       " (32.346270354734116, -16.038790975911354),\n",
       " (26.161069817167316, -73.04361881511933),\n",
       " (-68.28342911146486, 130.18491890807832),\n",
       " (0.024693772402088143, 17.32931369141741),\n",
       " (46.522915768237, 31.180819792059225),\n",
       " (68.6258896776283, 129.63229789195276),\n",
       " (4.735056057944206, 160.24722918730066),\n",
       " (71.33807349470132, 16.240165083552228),\n",
       " (-35.958744984666275, 125.41848515696904),\n",
       " (-27.88113985920196, 179.15763483921893),\n",
       " (-13.690158062060519, 160.06893780053173),\n",
       " (32.26436959597126, -156.41193568896404),\n",
       " (-73.83398884707114, -24.105918161940906),\n",
       " (-20.449530467277995, -34.94208916167162),\n",
       " (73.9587128382737, -19.027385341914737),\n",
       " (85.28514295527262, -41.893895911197745),\n",
       " (-45.67002347174172, -149.67025953684856),\n",
       " (79.50177010881981, 25.946949368660114),\n",
       " (-22.516686524242786, -62.55532122511168),\n",
       " (5.740051408158763, -169.38958813583687),\n",
       " (-23.101802982302715, 53.9158745141728)]"
      ]
     },
     "execution_count": 38,
     "metadata": {},
     "output_type": "execute_result"
    }
   ],
   "source": [
    "coordinates"
   ]
  },
  {
   "cell_type": "code",
   "execution_count": 39,
   "id": "c0f16708",
   "metadata": {},
   "outputs": [],
   "source": [
    "# Use the citipy module to determine city based on latitude and longitude.\n",
    "from citipy import citipy"
   ]
  },
  {
   "cell_type": "code",
   "execution_count": 40,
   "id": "44c289e1",
   "metadata": {},
   "outputs": [
    {
     "data": {
      "text/plain": [
       "47"
      ]
     },
     "execution_count": 40,
     "metadata": {},
     "output_type": "execute_result"
    }
   ],
   "source": [
    "# Create a list for holding the cities.\n",
    "cities = []\n",
    "# Identify the nearest city for each latitude and longitude combination.\n",
    "for coordinate in coordinates:\n",
    "    city = citipy.nearest_city(coordinate[0], coordinate[1]).city_name\n",
    "\n",
    "    # If the city is unique, then we will add it to the cities list.\n",
    "    if city not in cities:\n",
    "        cities.append(city)\n",
    "# Print the city count to confirm sufficient count.\n",
    "len(cities)"
   ]
  },
  {
   "cell_type": "code",
   "execution_count": 41,
   "id": "d437f434",
   "metadata": {},
   "outputs": [],
   "source": [
    "# Import the requests library.\n",
    "import requests\n",
    "\n",
    "# Import the API key.\n",
    "from config import weather_api_key\n",
    "\n",
    "# Import the datetime module from the datetime library.\n",
    "from datetime import datetime"
   ]
  },
  {
   "cell_type": "code",
   "execution_count": 42,
   "id": "b9436ffb",
   "metadata": {},
   "outputs": [],
   "source": [
    "# Starting URL for Weather Map API Call.\n",
    "url = \"http://api.openweathermap.org/data/2.5/weather?units=Imperial&APPID=\" + weather_api_key"
   ]
  },
  {
   "cell_type": "code",
   "execution_count": 55,
   "id": "b1383f5f",
   "metadata": {},
   "outputs": [
    {
     "name": "stdout",
     "output_type": "stream",
     "text": [
      "Beginning Data Retrieval     \n",
      "-----------------------------\n",
      "Processing Record 1 of Set 1 | barrow\n",
      "Processing Record 2 of Set 1 | deputatskiy\n",
      "Processing Record 3 of Set 1 | sardinata\n",
      "Processing Record 4 of Set 1 | albany\n",
      "Processing Record 5 of Set 1 | bredasdorp\n",
      "Processing Record 6 of Set 1 | belushya guba\n",
      "belushya guba not found. Skipping...\n",
      "Processing Record 7 of Set 1 | lakkoma\n",
      "Processing Record 8 of Set 1 | taolanaro\n",
      "taolanaro not found. Skipping...\n",
      "Processing Record 9 of Set 1 | umzimvubu\n",
      "umzimvubu not found. Skipping...\n",
      "Processing Record 10 of Set 1 | rikitea\n",
      "Processing Record 11 of Set 1 | hamilton\n",
      "Processing Record 12 of Set 1 | yellowknife\n",
      "Processing Record 13 of Set 1 | puerto ayora\n",
      "Processing Record 14 of Set 1 | biskamzha\n",
      "Processing Record 15 of Set 1 | nanortalik\n",
      "Processing Record 16 of Set 1 | illoqqortoormiut\n",
      "illoqqortoormiut not found. Skipping...\n",
      "Processing Record 17 of Set 1 | ushuaia\n",
      "Processing Record 18 of Set 1 | avarua\n",
      "Processing Record 19 of Set 1 | punta arenas\n",
      "Processing Record 20 of Set 1 | annau\n",
      "Processing Record 21 of Set 1 | thompson\n",
      "Processing Record 22 of Set 1 | tiksi\n",
      "Processing Record 23 of Set 1 | narsaq\n",
      "Processing Record 24 of Set 1 | sentyabrskiy\n",
      "sentyabrskiy not found. Skipping...\n",
      "Processing Record 25 of Set 1 | provost\n",
      "Processing Record 26 of Set 1 | nicolet\n",
      "Processing Record 27 of Set 1 | arraial do cabo\n",
      "Processing Record 28 of Set 1 | aklavik\n",
      "Processing Record 29 of Set 1 | grand gaube\n",
      "Processing Record 30 of Set 1 | porto santo\n",
      "Processing Record 31 of Set 1 | cockburn town\n",
      "Processing Record 32 of Set 1 | new norfolk\n",
      "Processing Record 33 of Set 1 | mbandaka\n",
      "Processing Record 34 of Set 1 | yuzhne\n",
      "Processing Record 35 of Set 1 | batagay-alyta\n",
      "Processing Record 36 of Set 1 | namatanai\n",
      "Processing Record 37 of Set 1 | andenes\n",
      "Processing Record 38 of Set 1 | esperance\n",
      "Processing Record 39 of Set 1 | russell\n",
      "Processing Record 40 of Set 1 | kirakira\n",
      "Processing Record 41 of Set 1 | kapaa\n",
      "Processing Record 42 of Set 1 | caravelas\n",
      "Processing Record 43 of Set 1 | ilulissat\n",
      "Processing Record 44 of Set 1 | mataura\n",
      "Processing Record 45 of Set 1 | honningsvag\n",
      "Processing Record 46 of Set 1 | doctor pedro p. pena\n",
      "doctor pedro p. pena not found. Skipping...\n",
      "Processing Record 47 of Set 1 | saint-louis\n",
      "-----------------------------\n",
      "Data Retrieval Complete      \n",
      "-----------------------------\n"
     ]
    }
   ],
   "source": [
    "# Create an empty list to hold the weather data.\n",
    "city_data = []\n",
    "# Print the beginning of the logging.\n",
    "print(\"Beginning Data Retrieval     \")\n",
    "print(\"-----------------------------\")\n",
    "\n",
    "# Create counters.\n",
    "record_count = 1\n",
    "set_count = 1\n",
    "# Loop through all the cities in the list.\n",
    "for i, city in enumerate(cities):\n",
    "\n",
    "    # Group cities in sets of 50 for logging purposes.\n",
    "    if (i % 50 == 0 and i >= 50):\n",
    "        set_count += 1\n",
    "        record_count = 1\n",
    "        time.sleep(60)\n",
    "\n",
    "    # Create endpoint URL with each city.\n",
    "    city_url = url + \"&q=\" + city.replace(\" \",\"+\")\n",
    "\n",
    "    # Log the URL, record, and set numbers and the city.\n",
    "    print(f\"Processing Record {record_count} of Set {set_count} | {city}\")\n",
    "    # Add 1 to the record count.\n",
    "    record_count += 1\n",
    "    \n",
    "   # Run an API request for each of the cities.\n",
    "    try:\n",
    "        # Parse the JSON and retrieve data.\n",
    "        city_weather = requests.get(city_url).json()\n",
    "        # Parse out the needed data.\n",
    "        city_lat = city_weather[\"coord\"][\"lat\"]\n",
    "        city_lng = city_weather[\"coord\"][\"lon\"]\n",
    "        city_max_temp = city_weather[\"main\"][\"temp_max\"]\n",
    "        city_humidity = city_weather[\"main\"][\"humidity\"]\n",
    "        city_clouds = city_weather[\"clouds\"][\"all\"]\n",
    "        city_wind = city_weather[\"wind\"][\"speed\"]\n",
    "        city_country = city_weather[\"sys\"][\"country\"]\n",
    "        # Convert the date to ISO standard.\n",
    "        city_date = datetime.utcfromtimestamp(city_weather[\"dt\"]).strftime('%Y-%m-%d %H:%M:%S')\n",
    "        # Append the city information into city_data list.\n",
    "        city_data.append({\"City\": city.title(),\n",
    "                          \"Lat\": city_lat,\n",
    "                          \"Lng\": city_lng,\n",
    "                          \"Max Temp\": city_max_temp,\n",
    "                          \"Humidity\": city_humidity,\n",
    "                          \"Cloudiness\": city_clouds,\n",
    "                          \"Wind Speed\": city_wind,\n",
    "                          \"Country\": city_country,\n",
    "                          \"Date\": city_date})\n",
    "\n",
    "# If an error is experienced, skip the city.\n",
    "    except:\n",
    "        print(f\"{city} not found. Skipping...\")\n",
    "        pass\n",
    "\n",
    "# Indicate that Data Loading is complete.\n",
    "print(\"-----------------------------\")\n",
    "print(\"Data Retrieval Complete      \")\n",
    "print(\"-----------------------------\") "
   ]
  },
  {
   "cell_type": "code",
   "execution_count": null,
   "id": "1b119fb3",
   "metadata": {},
   "outputs": [],
   "source": []
  }
 ],
 "metadata": {
  "kernelspec": {
   "display_name": "pythondata",
   "language": "python",
   "name": "pythondata"
  },
  "language_info": {
   "codemirror_mode": {
    "name": "ipython",
    "version": 3
   },
   "file_extension": ".py",
   "mimetype": "text/x-python",
   "name": "python",
   "nbconvert_exporter": "python",
   "pygments_lexer": "ipython3",
   "version": "3.9.7"
  }
 },
 "nbformat": 4,
 "nbformat_minor": 5
}
