{
 "cells": [
  {
   "cell_type": "code",
   "execution_count": 1,
   "id": "2dbaf534",
   "metadata": {},
   "outputs": [],
   "source": [
    "# Import the random module.\n",
    "import random"
   ]
  },
  {
   "cell_type": "code",
   "execution_count": 4,
   "id": "33bb2fe7",
   "metadata": {},
   "outputs": [
    {
     "data": {
      "text/plain": [
       "-14"
      ]
     },
     "execution_count": 4,
     "metadata": {},
     "output_type": "execute_result"
    }
   ],
   "source": [
    "random.randint(-90,90)"
   ]
  },
  {
   "cell_type": "code",
   "execution_count": 8,
   "id": "7bf85842",
   "metadata": {},
   "outputs": [
    {
     "data": {
      "text/plain": [
       "0.6661582686073881"
      ]
     },
     "execution_count": 8,
     "metadata": {},
     "output_type": "execute_result"
    }
   ],
   "source": [
    "random.random()"
   ]
  },
  {
   "cell_type": "code",
   "execution_count": 28,
   "id": "beb882df",
   "metadata": {},
   "outputs": [
    {
     "data": {
      "text/plain": [
       "22.958380486864996"
      ]
     },
     "execution_count": 28,
     "metadata": {},
     "output_type": "execute_result"
    }
   ],
   "source": [
    "random_number = random.randint(-90,89) + random.random()\n",
    "random_number"
   ]
  },
  {
   "cell_type": "code",
   "execution_count": 44,
   "id": "4429f33e",
   "metadata": {},
   "outputs": [
    {
     "data": {
      "text/plain": [
       "[39.72779574966055,\n",
       " -59.18729455537815,\n",
       " 34.50642448797626,\n",
       " -28.100040185210947,\n",
       " -70.58778154395978,\n",
       " -43.53739054978319,\n",
       " -9.288386949844675,\n",
       " 60.56451739460384,\n",
       " 45.690119511933176,\n",
       " 83.40602352316824]"
      ]
     },
     "execution_count": 44,
     "metadata": {},
     "output_type": "execute_result"
    }
   ],
   "source": [
    "x = 1\n",
    "latitudes = []\n",
    "while x < 11:\n",
    "    random_lat = random.randint(-90, 89) + random.random()\n",
    "    latitudes.append(random_lat)\n",
    "    x += 1\n",
    "latitudes"
   ]
  },
  {
   "cell_type": "code",
   "execution_count": 45,
   "id": "87a227cf",
   "metadata": {},
   "outputs": [
    {
     "data": {
      "text/plain": [
       "[13.322768486559571,\n",
       " -108.44844673355189,\n",
       " 139.83040710586295,\n",
       " 174.55841137390084,\n",
       " 11.471142295959078,\n",
       " 169.5282710807923,\n",
       " 82.59732671695792,\n",
       " -171.22658109687094,\n",
       " -151.30971279872148,\n",
       " -132.26188897210798]"
      ]
     },
     "execution_count": 45,
     "metadata": {},
     "output_type": "execute_result"
    }
   ],
   "source": [
    "y = 1\n",
    "longitudes = []\n",
    "while y < 11:\n",
    "    random_long = random.randint(-180, 179) + random.random()\n",
    "    longitudes.append(random_long)\n",
    "    y += 1\n",
    "longitudes"
   ]
  },
  {
   "cell_type": "code",
   "execution_count": 79,
   "id": "67cf1a5c",
   "metadata": {},
   "outputs": [
    {
     "data": {
      "text/plain": [
       "-33"
      ]
     },
     "execution_count": 79,
     "metadata": {},
     "output_type": "execute_result"
    }
   ],
   "source": [
    "random.randrange(-90,90,step=1)"
   ]
  },
  {
   "cell_type": "code",
   "execution_count": 88,
   "id": "007e82c3",
   "metadata": {},
   "outputs": [
    {
     "data": {
      "text/plain": [
       "-78.62"
      ]
     },
     "execution_count": 88,
     "metadata": {},
     "output_type": "execute_result"
    }
   ],
   "source": [
    "round(random.uniform(-90,90),2)"
   ]
  },
  {
   "cell_type": "code",
   "execution_count": 89,
   "id": "6e75db83",
   "metadata": {},
   "outputs": [],
   "source": [
    "import numpy as np"
   ]
  },
  {
   "cell_type": "code",
   "execution_count": 94,
   "id": "cb05a23e",
   "metadata": {},
   "outputs": [
    {
     "data": {
      "text/plain": [
       "array([-48.4451693 , -31.3695668 , -18.61493818,  -7.12754382,\n",
       "       -82.70493379,  78.81094945, -72.27617891, -77.26790554,\n",
       "        29.24031998,   0.21550401, -50.49475332, -35.69188235,\n",
       "        33.59650328,  52.69184561, -58.21366891, -57.13743193,\n",
       "       -31.17664651,  65.72697111,  22.62065863, -56.88514848,\n",
       "       -48.25406082, -13.29509405,  78.92814402,  10.82417885,\n",
       "         9.21718732,   8.8696102 ,  85.30765629,  26.27690595,\n",
       "        65.80379982,   9.00925464, -56.24332636,  38.54268119,\n",
       "       -37.76492462,  42.45090389, -72.5470514 , -25.49834655,\n",
       "       -40.07216678,  80.9746224 ,  13.79411161, -89.42086878,\n",
       "        55.7068583 ,  -5.50619712, -72.84292591, -66.00514202,\n",
       "       -53.41100257,  52.00718107,  10.90030702,   8.53299617,\n",
       "        26.38805579,  45.13265583])"
      ]
     },
     "execution_count": 94,
     "metadata": {},
     "output_type": "execute_result"
    }
   ],
   "source": [
    "np.random.uniform(-90.000, 90.000,size=50)"
   ]
  },
  {
   "cell_type": "code",
   "execution_count": 96,
   "id": "bbe2e002",
   "metadata": {},
   "outputs": [],
   "source": [
    "# Import timeit.\n",
    "import timeit\n"
   ]
  },
  {
   "cell_type": "code",
   "execution_count": 102,
   "id": "3ff12c2f",
   "metadata": {},
   "outputs": [
    {
     "name": "stdout",
     "output_type": "stream",
     "text": [
      "14 µs ± 134 ns per loop (mean ± std. dev. of 7 runs, 100000 loops each)\n"
     ]
    }
   ],
   "source": [
    "%timeit np.random.uniform(-90.000, 90.000,size=1500)"
   ]
  },
  {
   "cell_type": "code",
   "execution_count": 103,
   "id": "a4782b1e",
   "metadata": {},
   "outputs": [
    {
     "name": "stdout",
     "output_type": "stream",
     "text": [
      "1.42 ms ± 10.1 µs per loop (mean ± std. dev. of 7 runs, 1000 loops each)\n"
     ]
    }
   ],
   "source": [
    "def latitudes(size):\n",
    "    latitudes = []\n",
    "    x = 0\n",
    "    while x < (size):\n",
    "        random_lat = random.randint(-90, 90) + random.random()\n",
    "        latitudes.append(random_lat)\n",
    "        x += 1\n",
    "    return latitudes\n",
    "# Call the function with 1500.\n",
    "%timeit latitudes(1500)"
   ]
  },
  {
   "cell_type": "code",
   "execution_count": 108,
   "id": "7a506bc6",
   "metadata": {},
   "outputs": [
    {
     "name": "stdout",
     "output_type": "stream",
     "text": [
      "40.5 ns ± 2.18 ns per loop (mean ± std. dev. of 7 runs, 10000000 loops each)\n"
     ]
    }
   ],
   "source": [
    "y = 1\n",
    "longitudes = []\n",
    "while y < 1500:\n",
    "    random_long = random.randint(-90, 90) + random.random()\n",
    "    longitudes.append(random_long)\n",
    "    y += 1\n",
    "%timeit longitudes"
   ]
  },
  {
   "cell_type": "code",
   "execution_count": null,
   "id": "dfc74b16",
   "metadata": {},
   "outputs": [],
   "source": []
  }
 ],
 "metadata": {
  "kernelspec": {
   "display_name": "pythondata",
   "language": "python",
   "name": "pythondata"
  },
  "language_info": {
   "codemirror_mode": {
    "name": "ipython",
    "version": 3
   },
   "file_extension": ".py",
   "mimetype": "text/x-python",
   "name": "python",
   "nbconvert_exporter": "python",
   "pygments_lexer": "ipython3",
   "version": "3.9.7"
  }
 },
 "nbformat": 4,
 "nbformat_minor": 5
}
